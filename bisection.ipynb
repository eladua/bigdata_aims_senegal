{
 "metadata": {
  "name": "",
  "signature": "sha256:c2dbb1c2bab67312a6b7301291c1b6be6be78f22e43a2bc3baddf12cfd0901a4"
 },
 "nbformat": 3,
 "nbformat_minor": 0,
 "worksheets": [
  {
   "cells": [
    {
     "cell_type": "code",
     "collapsed": false,
     "input": [
      "import sys\n",
      "\n",
      "def f(x):\n",
      "    return x**10 + x**16 + x**2015\n",
      "\n",
      "def bisection(a,b,tol=0.00001):\n",
      "    c = (a+b)/2.0\n",
      "    while (b-a)/2.0 > tol:\n",
      "        if f(c) == 0:\n",
      "            return c\n",
      "        elif f(a) * f(c) < 0:\n",
      "            b = c\n",
      "        else:\n",
      "            a = c\n",
      "        c = (a+b)/2.0\n",
      "        \n",
      "    return c\n",
      "\n",
      "def main(argv):\n",
      "    if (len(sys.argv) != 4):\n",
      "        sys.exit('Usage: bisection.py <a>')\n",
      "    \n",
      "    print 'The root is:',\n",
      "    print bisection(int(sys.argv[1]), int(sys.argv[1]))\n",
      "    \n",
      "   \n",
      "bisection(-1.1,1.0,0.0001)"
     ],
     "language": "python",
     "metadata": {},
     "outputs": [
      {
       "metadata": {},
       "output_type": "pyout",
       "prompt_number": 7,
       "text": [
        "-1.0003448486328126"
       ]
      }
     ],
     "prompt_number": 7
    },
    {
     "cell_type": "code",
     "collapsed": false,
     "input": [],
     "language": "python",
     "metadata": {},
     "outputs": [],
     "prompt_number": 4
    },
    {
     "cell_type": "code",
     "collapsed": false,
     "input": [],
     "language": "python",
     "metadata": {},
     "outputs": [],
     "prompt_number": 4
    },
    {
     "cell_type": "code",
     "collapsed": false,
     "input": [],
     "language": "python",
     "metadata": {},
     "outputs": []
    }
   ],
   "metadata": {}
  }
 ]
}